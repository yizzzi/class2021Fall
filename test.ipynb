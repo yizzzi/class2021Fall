{
  "nbformat": 4,
  "nbformat_minor": 0,
  "metadata": {
    "colab": {
      "name": "test.ipynb",
      "provenance": [],
      "authorship_tag": "ABX9TyNrCdHCdalfzYEm/jZNVsat",
      "include_colab_link": true
    },
    "kernelspec": {
      "name": "python3",
      "display_name": "Python 3"
    },
    "language_info": {
      "name": "python"
    }
  },
  "cells": [
    {
      "cell_type": "markdown",
      "metadata": {
        "id": "view-in-github",
        "colab_type": "text"
      },
      "source": [
        "<a href=\"https://colab.research.google.com/github/yizzzi/class2021Fall/blob/main/test.ipynb\" target=\"_parent\"><img src=\"https://colab.research.google.com/assets/colab-badge.svg\" alt=\"Open In Colab\"/></a>"
      ]
    },
    {
      "cell_type": "markdown",
      "metadata": {
        "id": "K0hzOaYgF8aJ"
      },
      "source": [
        "변수(variables), 제어문(syntax)\n"
      ]
    },
    {
      "cell_type": "code",
      "metadata": {
        "colab": {
          "base_uri": "https://localhost:8080/"
        },
        "id": "40_LNwWQF6u8",
        "outputId": "99304069-0a14-43cc-ee06-9decaa49f476"
      },
      "source": [
        "a = 1 \n",
        "b = 'hello'\n",
        "c = 1.1\n",
        "d = [1, 'abc', 2.1]\n",
        "\n",
        "#함수 각 값에 제대로 할당되었는지 확인하는 print 함수\n",
        "\n",
        "print(a)\n",
        "print(b)\n",
        "\n",
        "print(type(a))  #정수 #int\n",
        "print(type(b))  #문자열 #str\n",
        "print(type(c))  #소수 #float\n",
        "print(type(d))  #리스트 #list"
      ],
      "execution_count": 6,
      "outputs": [
        {
          "output_type": "stream",
          "name": "stdout",
          "text": [
            "1\n",
            "hello\n",
            "<class 'int'>\n",
            "<class 'str'>\n",
            "<class 'float'>\n",
            "<class 'list'>\n"
          ]
        }
      ]
    },
    {
      "cell_type": "code",
      "metadata": {
        "id": "NZ-KrpGlGOWi"
      },
      "source": [
        ""
      ],
      "execution_count": null,
      "outputs": []
    }
  ]
}